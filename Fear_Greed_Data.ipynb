{
 "cells": [
  {
   "cell_type": "markdown",
   "id": "80fcd3ad-ecb5-423d-a533-fb57e46d32d8",
   "metadata": {},
   "source": [
    "## Fear_Greed_Index Analysis"
   ]
  },
  {
   "cell_type": "markdown",
   "id": "72462067-fd7f-40eb-86b6-c28fd5d7befc",
   "metadata": {},
   "source": [
    "### Code Block 1: Data Loading and Initial Inspection\n",
    "### Description Focus: Getting the raw data, displaying its head, and checking its information (data types, non-nulls)."
   ]
  },
  {
   "cell_type": "markdown",
   "id": "681bcb8d-c983-4137-927c-eecc727e3a07",
   "metadata": {},
   "source": [
    "#### Step 1: Data Loading and Initial Inspection\n",
    "#### This block is responsible for loading the Bitcoin Market Sentiment Dataset\n",
    "#### and performing an initial check of its structure, including column names,\n",
    "#### data types, and a preview of the first few rows."
   ]
  },
  {
   "cell_type": "code",
   "execution_count": 167,
   "id": "97e71ff8-a60b-4baf-bb2f-288b409d6ff1",
   "metadata": {},
   "outputs": [],
   "source": [
    "import pandas as pd"
   ]
  },
  {
   "cell_type": "code",
   "execution_count": 168,
   "id": "cee36382-9944-4ddc-a753-d5703cf14d15",
   "metadata": {},
   "outputs": [
    {
     "data": {
      "text/html": [
       "<div>\n",
       "<style scoped>\n",
       "    .dataframe tbody tr th:only-of-type {\n",
       "        vertical-align: middle;\n",
       "    }\n",
       "\n",
       "    .dataframe tbody tr th {\n",
       "        vertical-align: top;\n",
       "    }\n",
       "\n",
       "    .dataframe thead th {\n",
       "        text-align: right;\n",
       "    }\n",
       "</style>\n",
       "<table border=\"1\" class=\"dataframe\">\n",
       "  <thead>\n",
       "    <tr style=\"text-align: right;\">\n",
       "      <th></th>\n",
       "      <th>timestamp</th>\n",
       "      <th>value</th>\n",
       "      <th>classification</th>\n",
       "      <th>date</th>\n",
       "    </tr>\n",
       "  </thead>\n",
       "  <tbody>\n",
       "    <tr>\n",
       "      <th>0</th>\n",
       "      <td>1517463000</td>\n",
       "      <td>30</td>\n",
       "      <td>Fear</td>\n",
       "      <td>2018-02-01</td>\n",
       "    </tr>\n",
       "    <tr>\n",
       "      <th>1</th>\n",
       "      <td>1517549400</td>\n",
       "      <td>15</td>\n",
       "      <td>Extreme Fear</td>\n",
       "      <td>2018-02-02</td>\n",
       "    </tr>\n",
       "    <tr>\n",
       "      <th>2</th>\n",
       "      <td>1517635800</td>\n",
       "      <td>40</td>\n",
       "      <td>Fear</td>\n",
       "      <td>2018-02-03</td>\n",
       "    </tr>\n",
       "    <tr>\n",
       "      <th>3</th>\n",
       "      <td>1517722200</td>\n",
       "      <td>24</td>\n",
       "      <td>Extreme Fear</td>\n",
       "      <td>2018-02-04</td>\n",
       "    </tr>\n",
       "    <tr>\n",
       "      <th>4</th>\n",
       "      <td>1517808600</td>\n",
       "      <td>11</td>\n",
       "      <td>Extreme Fear</td>\n",
       "      <td>2018-02-05</td>\n",
       "    </tr>\n",
       "    <tr>\n",
       "      <th>...</th>\n",
       "      <td>...</td>\n",
       "      <td>...</td>\n",
       "      <td>...</td>\n",
       "      <td>...</td>\n",
       "    </tr>\n",
       "    <tr>\n",
       "      <th>2639</th>\n",
       "      <td>1745818200</td>\n",
       "      <td>54</td>\n",
       "      <td>Neutral</td>\n",
       "      <td>2025-04-28</td>\n",
       "    </tr>\n",
       "    <tr>\n",
       "      <th>2640</th>\n",
       "      <td>1745904600</td>\n",
       "      <td>60</td>\n",
       "      <td>Greed</td>\n",
       "      <td>2025-04-29</td>\n",
       "    </tr>\n",
       "    <tr>\n",
       "      <th>2641</th>\n",
       "      <td>1745991000</td>\n",
       "      <td>56</td>\n",
       "      <td>Greed</td>\n",
       "      <td>2025-04-30</td>\n",
       "    </tr>\n",
       "    <tr>\n",
       "      <th>2642</th>\n",
       "      <td>1746077400</td>\n",
       "      <td>53</td>\n",
       "      <td>Neutral</td>\n",
       "      <td>2025-05-01</td>\n",
       "    </tr>\n",
       "    <tr>\n",
       "      <th>2643</th>\n",
       "      <td>1746163800</td>\n",
       "      <td>67</td>\n",
       "      <td>Greed</td>\n",
       "      <td>2025-05-02</td>\n",
       "    </tr>\n",
       "  </tbody>\n",
       "</table>\n",
       "<p>2644 rows × 4 columns</p>\n",
       "</div>"
      ],
      "text/plain": [
       "       timestamp  value classification        date\n",
       "0     1517463000     30           Fear  2018-02-01\n",
       "1     1517549400     15   Extreme Fear  2018-02-02\n",
       "2     1517635800     40           Fear  2018-02-03\n",
       "3     1517722200     24   Extreme Fear  2018-02-04\n",
       "4     1517808600     11   Extreme Fear  2018-02-05\n",
       "...          ...    ...            ...         ...\n",
       "2639  1745818200     54        Neutral  2025-04-28\n",
       "2640  1745904600     60          Greed  2025-04-29\n",
       "2641  1745991000     56          Greed  2025-04-30\n",
       "2642  1746077400     53        Neutral  2025-05-01\n",
       "2643  1746163800     67          Greed  2025-05-02\n",
       "\n",
       "[2644 rows x 4 columns]"
      ]
     },
     "execution_count": 168,
     "metadata": {},
     "output_type": "execute_result"
    }
   ],
   "source": [
    "# Load the fear_Greed dataset\n",
    "fg_df = pd.read_csv(\"C:\\\\Users\\\\Admin\\\\Desktop\\\\Hero Vired\\\\Primetrade assignment\\\\fear_greed_index.csv\")\n",
    "fg_df"
   ]
  },
  {
   "cell_type": "code",
   "execution_count": 169,
   "id": "2565257d-03d3-4bf4-a715-d4dadd36f0e6",
   "metadata": {},
   "outputs": [
    {
     "name": "stdout",
     "output_type": "stream",
     "text": [
      "(2644, 4)\n"
     ]
    }
   ],
   "source": [
    "print(fg_df.shape)"
   ]
  },
  {
   "cell_type": "code",
   "execution_count": 170,
   "id": "1140c9de-0421-4a26-b520-3c81b7568bb4",
   "metadata": {},
   "outputs": [
    {
     "name": "stdout",
     "output_type": "stream",
     "text": [
      "10576\n"
     ]
    }
   ],
   "source": [
    "print(fg_df.size)"
   ]
  },
  {
   "cell_type": "code",
   "execution_count": 171,
   "id": "18c66d6a-cdef-4639-9eef-46b83fc78ee1",
   "metadata": {},
   "outputs": [
    {
     "name": "stdout",
     "output_type": "stream",
     "text": [
      "Number of rows: 2644\n"
     ]
    }
   ],
   "source": [
    "num_rows = fg_df.shape[0]\n",
    "print(\"Number of rows:\", num_rows)"
   ]
  },
  {
   "cell_type": "code",
   "execution_count": 172,
   "id": "f671a8c9-0254-412f-95ce-5f76aff206d4",
   "metadata": {},
   "outputs": [
    {
     "name": "stdout",
     "output_type": "stream",
     "text": [
      "Number of column: 4\n"
     ]
    }
   ],
   "source": [
    "num_col = fg_df.shape[1]\n",
    "print(\"Number of column:\", num_col)"
   ]
  },
  {
   "cell_type": "code",
   "execution_count": 173,
   "id": "9d5a393f-e670-4a60-9975-2152ea54fb77",
   "metadata": {},
   "outputs": [
    {
     "name": "stdout",
     "output_type": "stream",
     "text": [
      "2\n"
     ]
    }
   ],
   "source": [
    "print(fg_df.ndim)"
   ]
  },
  {
   "cell_type": "code",
   "execution_count": 174,
   "id": "17afd50f-1df3-4ee9-9b4c-7e5d6a82446c",
   "metadata": {},
   "outputs": [
    {
     "name": "stdout",
     "output_type": "stream",
     "text": [
      "Column names and data types:\n",
      "timestamp          int64\n",
      "value              int64\n",
      "classification    object\n",
      "date              object\n",
      "dtype: object\n"
     ]
    }
   ],
   "source": [
    "# Print the list of columns and their data types:\n",
    "print(\"Column names and data types:\")\n",
    "print(fg_df.dtypes)"
   ]
  },
  {
   "cell_type": "code",
   "execution_count": 175,
   "id": "df920edd-90b3-4d9e-b98b-79bd41d4dc6c",
   "metadata": {},
   "outputs": [
    {
     "data": {
      "text/html": [
       "<div>\n",
       "<style scoped>\n",
       "    .dataframe tbody tr th:only-of-type {\n",
       "        vertical-align: middle;\n",
       "    }\n",
       "\n",
       "    .dataframe tbody tr th {\n",
       "        vertical-align: top;\n",
       "    }\n",
       "\n",
       "    .dataframe thead th {\n",
       "        text-align: right;\n",
       "    }\n",
       "</style>\n",
       "<table border=\"1\" class=\"dataframe\">\n",
       "  <thead>\n",
       "    <tr style=\"text-align: right;\">\n",
       "      <th></th>\n",
       "      <th>timestamp</th>\n",
       "      <th>value</th>\n",
       "      <th>classification</th>\n",
       "      <th>date</th>\n",
       "    </tr>\n",
       "  </thead>\n",
       "  <tbody>\n",
       "    <tr>\n",
       "      <th>0</th>\n",
       "      <td>False</td>\n",
       "      <td>False</td>\n",
       "      <td>False</td>\n",
       "      <td>False</td>\n",
       "    </tr>\n",
       "    <tr>\n",
       "      <th>1</th>\n",
       "      <td>False</td>\n",
       "      <td>False</td>\n",
       "      <td>False</td>\n",
       "      <td>False</td>\n",
       "    </tr>\n",
       "    <tr>\n",
       "      <th>2</th>\n",
       "      <td>False</td>\n",
       "      <td>False</td>\n",
       "      <td>False</td>\n",
       "      <td>False</td>\n",
       "    </tr>\n",
       "    <tr>\n",
       "      <th>3</th>\n",
       "      <td>False</td>\n",
       "      <td>False</td>\n",
       "      <td>False</td>\n",
       "      <td>False</td>\n",
       "    </tr>\n",
       "    <tr>\n",
       "      <th>4</th>\n",
       "      <td>False</td>\n",
       "      <td>False</td>\n",
       "      <td>False</td>\n",
       "      <td>False</td>\n",
       "    </tr>\n",
       "    <tr>\n",
       "      <th>...</th>\n",
       "      <td>...</td>\n",
       "      <td>...</td>\n",
       "      <td>...</td>\n",
       "      <td>...</td>\n",
       "    </tr>\n",
       "    <tr>\n",
       "      <th>2639</th>\n",
       "      <td>False</td>\n",
       "      <td>False</td>\n",
       "      <td>False</td>\n",
       "      <td>False</td>\n",
       "    </tr>\n",
       "    <tr>\n",
       "      <th>2640</th>\n",
       "      <td>False</td>\n",
       "      <td>False</td>\n",
       "      <td>False</td>\n",
       "      <td>False</td>\n",
       "    </tr>\n",
       "    <tr>\n",
       "      <th>2641</th>\n",
       "      <td>False</td>\n",
       "      <td>False</td>\n",
       "      <td>False</td>\n",
       "      <td>False</td>\n",
       "    </tr>\n",
       "    <tr>\n",
       "      <th>2642</th>\n",
       "      <td>False</td>\n",
       "      <td>False</td>\n",
       "      <td>False</td>\n",
       "      <td>False</td>\n",
       "    </tr>\n",
       "    <tr>\n",
       "      <th>2643</th>\n",
       "      <td>False</td>\n",
       "      <td>False</td>\n",
       "      <td>False</td>\n",
       "      <td>False</td>\n",
       "    </tr>\n",
       "  </tbody>\n",
       "</table>\n",
       "<p>2644 rows × 4 columns</p>\n",
       "</div>"
      ],
      "text/plain": [
       "      timestamp  value  classification   date\n",
       "0         False  False           False  False\n",
       "1         False  False           False  False\n",
       "2         False  False           False  False\n",
       "3         False  False           False  False\n",
       "4         False  False           False  False\n",
       "...         ...    ...             ...    ...\n",
       "2639      False  False           False  False\n",
       "2640      False  False           False  False\n",
       "2641      False  False           False  False\n",
       "2642      False  False           False  False\n",
       "2643      False  False           False  False\n",
       "\n",
       "[2644 rows x 4 columns]"
      ]
     },
     "execution_count": 175,
     "metadata": {},
     "output_type": "execute_result"
    }
   ],
   "source": [
    "fg_df.isnull()"
   ]
  },
  {
   "cell_type": "code",
   "execution_count": 176,
   "id": "a90f5435-c20f-4c7e-ad35-1486c861b2b2",
   "metadata": {},
   "outputs": [
    {
     "data": {
      "text/plain": [
       "timestamp         0\n",
       "value             0\n",
       "classification    0\n",
       "date              0\n",
       "dtype: int64"
      ]
     },
     "execution_count": 176,
     "metadata": {},
     "output_type": "execute_result"
    }
   ],
   "source": [
    "fg_df.isnull().sum()"
   ]
  },
  {
   "cell_type": "code",
   "execution_count": 177,
   "id": "16bf18a8-50d1-44ff-a4e4-ee4c8dc1cd3b",
   "metadata": {},
   "outputs": [
    {
     "data": {
      "text/html": [
       "<div>\n",
       "<style scoped>\n",
       "    .dataframe tbody tr th:only-of-type {\n",
       "        vertical-align: middle;\n",
       "    }\n",
       "\n",
       "    .dataframe tbody tr th {\n",
       "        vertical-align: top;\n",
       "    }\n",
       "\n",
       "    .dataframe thead th {\n",
       "        text-align: right;\n",
       "    }\n",
       "</style>\n",
       "<table border=\"1\" class=\"dataframe\">\n",
       "  <thead>\n",
       "    <tr style=\"text-align: right;\">\n",
       "      <th></th>\n",
       "      <th>timestamp</th>\n",
       "      <th>value</th>\n",
       "      <th>classification</th>\n",
       "      <th>date</th>\n",
       "    </tr>\n",
       "  </thead>\n",
       "  <tbody>\n",
       "    <tr>\n",
       "      <th>0</th>\n",
       "      <td>1517463000</td>\n",
       "      <td>30</td>\n",
       "      <td>Fear</td>\n",
       "      <td>2018-02-01</td>\n",
       "    </tr>\n",
       "    <tr>\n",
       "      <th>1</th>\n",
       "      <td>1517549400</td>\n",
       "      <td>15</td>\n",
       "      <td>Extreme Fear</td>\n",
       "      <td>2018-02-02</td>\n",
       "    </tr>\n",
       "    <tr>\n",
       "      <th>2</th>\n",
       "      <td>1517635800</td>\n",
       "      <td>40</td>\n",
       "      <td>Fear</td>\n",
       "      <td>2018-02-03</td>\n",
       "    </tr>\n",
       "    <tr>\n",
       "      <th>3</th>\n",
       "      <td>1517722200</td>\n",
       "      <td>24</td>\n",
       "      <td>Extreme Fear</td>\n",
       "      <td>2018-02-04</td>\n",
       "    </tr>\n",
       "    <tr>\n",
       "      <th>4</th>\n",
       "      <td>1517808600</td>\n",
       "      <td>11</td>\n",
       "      <td>Extreme Fear</td>\n",
       "      <td>2018-02-05</td>\n",
       "    </tr>\n",
       "    <tr>\n",
       "      <th>...</th>\n",
       "      <td>...</td>\n",
       "      <td>...</td>\n",
       "      <td>...</td>\n",
       "      <td>...</td>\n",
       "    </tr>\n",
       "    <tr>\n",
       "      <th>2639</th>\n",
       "      <td>1745818200</td>\n",
       "      <td>54</td>\n",
       "      <td>Neutral</td>\n",
       "      <td>2025-04-28</td>\n",
       "    </tr>\n",
       "    <tr>\n",
       "      <th>2640</th>\n",
       "      <td>1745904600</td>\n",
       "      <td>60</td>\n",
       "      <td>Greed</td>\n",
       "      <td>2025-04-29</td>\n",
       "    </tr>\n",
       "    <tr>\n",
       "      <th>2641</th>\n",
       "      <td>1745991000</td>\n",
       "      <td>56</td>\n",
       "      <td>Greed</td>\n",
       "      <td>2025-04-30</td>\n",
       "    </tr>\n",
       "    <tr>\n",
       "      <th>2642</th>\n",
       "      <td>1746077400</td>\n",
       "      <td>53</td>\n",
       "      <td>Neutral</td>\n",
       "      <td>2025-05-01</td>\n",
       "    </tr>\n",
       "    <tr>\n",
       "      <th>2643</th>\n",
       "      <td>1746163800</td>\n",
       "      <td>67</td>\n",
       "      <td>Greed</td>\n",
       "      <td>2025-05-02</td>\n",
       "    </tr>\n",
       "  </tbody>\n",
       "</table>\n",
       "<p>2644 rows × 4 columns</p>\n",
       "</div>"
      ],
      "text/plain": [
       "       timestamp  value classification        date\n",
       "0     1517463000     30           Fear  2018-02-01\n",
       "1     1517549400     15   Extreme Fear  2018-02-02\n",
       "2     1517635800     40           Fear  2018-02-03\n",
       "3     1517722200     24   Extreme Fear  2018-02-04\n",
       "4     1517808600     11   Extreme Fear  2018-02-05\n",
       "...          ...    ...            ...         ...\n",
       "2639  1745818200     54        Neutral  2025-04-28\n",
       "2640  1745904600     60          Greed  2025-04-29\n",
       "2641  1745991000     56          Greed  2025-04-30\n",
       "2642  1746077400     53        Neutral  2025-05-01\n",
       "2643  1746163800     67          Greed  2025-05-02\n",
       "\n",
       "[2644 rows x 4 columns]"
      ]
     },
     "execution_count": 177,
     "metadata": {},
     "output_type": "execute_result"
    }
   ],
   "source": [
    "fg_df[fg_df[\"timestamp\"].notnull()]"
   ]
  },
  {
   "cell_type": "code",
   "execution_count": 178,
   "id": "d7d51835-9350-4445-8d02-8593356f526f",
   "metadata": {},
   "outputs": [
    {
     "data": {
      "text/html": [
       "<div>\n",
       "<style scoped>\n",
       "    .dataframe tbody tr th:only-of-type {\n",
       "        vertical-align: middle;\n",
       "    }\n",
       "\n",
       "    .dataframe tbody tr th {\n",
       "        vertical-align: top;\n",
       "    }\n",
       "\n",
       "    .dataframe thead th {\n",
       "        text-align: right;\n",
       "    }\n",
       "</style>\n",
       "<table border=\"1\" class=\"dataframe\">\n",
       "  <thead>\n",
       "    <tr style=\"text-align: right;\">\n",
       "      <th></th>\n",
       "      <th>timestamp</th>\n",
       "      <th>value</th>\n",
       "      <th>classification</th>\n",
       "      <th>date</th>\n",
       "    </tr>\n",
       "  </thead>\n",
       "  <tbody>\n",
       "    <tr>\n",
       "      <th>0</th>\n",
       "      <td>1517463000</td>\n",
       "      <td>30</td>\n",
       "      <td>Fear</td>\n",
       "      <td>2018-02-01</td>\n",
       "    </tr>\n",
       "    <tr>\n",
       "      <th>1</th>\n",
       "      <td>1517549400</td>\n",
       "      <td>15</td>\n",
       "      <td>Extreme Fear</td>\n",
       "      <td>2018-02-02</td>\n",
       "    </tr>\n",
       "    <tr>\n",
       "      <th>2</th>\n",
       "      <td>1517635800</td>\n",
       "      <td>40</td>\n",
       "      <td>Fear</td>\n",
       "      <td>2018-02-03</td>\n",
       "    </tr>\n",
       "    <tr>\n",
       "      <th>3</th>\n",
       "      <td>1517722200</td>\n",
       "      <td>24</td>\n",
       "      <td>Extreme Fear</td>\n",
       "      <td>2018-02-04</td>\n",
       "    </tr>\n",
       "    <tr>\n",
       "      <th>4</th>\n",
       "      <td>1517808600</td>\n",
       "      <td>11</td>\n",
       "      <td>Extreme Fear</td>\n",
       "      <td>2018-02-05</td>\n",
       "    </tr>\n",
       "    <tr>\n",
       "      <th>...</th>\n",
       "      <td>...</td>\n",
       "      <td>...</td>\n",
       "      <td>...</td>\n",
       "      <td>...</td>\n",
       "    </tr>\n",
       "    <tr>\n",
       "      <th>2639</th>\n",
       "      <td>1745818200</td>\n",
       "      <td>54</td>\n",
       "      <td>Neutral</td>\n",
       "      <td>2025-04-28</td>\n",
       "    </tr>\n",
       "    <tr>\n",
       "      <th>2640</th>\n",
       "      <td>1745904600</td>\n",
       "      <td>60</td>\n",
       "      <td>Greed</td>\n",
       "      <td>2025-04-29</td>\n",
       "    </tr>\n",
       "    <tr>\n",
       "      <th>2641</th>\n",
       "      <td>1745991000</td>\n",
       "      <td>56</td>\n",
       "      <td>Greed</td>\n",
       "      <td>2025-04-30</td>\n",
       "    </tr>\n",
       "    <tr>\n",
       "      <th>2642</th>\n",
       "      <td>1746077400</td>\n",
       "      <td>53</td>\n",
       "      <td>Neutral</td>\n",
       "      <td>2025-05-01</td>\n",
       "    </tr>\n",
       "    <tr>\n",
       "      <th>2643</th>\n",
       "      <td>1746163800</td>\n",
       "      <td>67</td>\n",
       "      <td>Greed</td>\n",
       "      <td>2025-05-02</td>\n",
       "    </tr>\n",
       "  </tbody>\n",
       "</table>\n",
       "<p>2644 rows × 4 columns</p>\n",
       "</div>"
      ],
      "text/plain": [
       "       timestamp  value classification        date\n",
       "0     1517463000     30           Fear  2018-02-01\n",
       "1     1517549400     15   Extreme Fear  2018-02-02\n",
       "2     1517635800     40           Fear  2018-02-03\n",
       "3     1517722200     24   Extreme Fear  2018-02-04\n",
       "4     1517808600     11   Extreme Fear  2018-02-05\n",
       "...          ...    ...            ...         ...\n",
       "2639  1745818200     54        Neutral  2025-04-28\n",
       "2640  1745904600     60          Greed  2025-04-29\n",
       "2641  1745991000     56          Greed  2025-04-30\n",
       "2642  1746077400     53        Neutral  2025-05-01\n",
       "2643  1746163800     67          Greed  2025-05-02\n",
       "\n",
       "[2644 rows x 4 columns]"
      ]
     },
     "execution_count": 178,
     "metadata": {},
     "output_type": "execute_result"
    }
   ],
   "source": [
    "fg_df[fg_df[\"value\"].notnull()]"
   ]
  },
  {
   "cell_type": "code",
   "execution_count": 179,
   "id": "ed0d7b3a-9b5c-4dc6-af15-2d99129264a5",
   "metadata": {},
   "outputs": [
    {
     "data": {
      "text/plain": [
       "timestamp         0\n",
       "value             0\n",
       "classification    0\n",
       "date              0\n",
       "dtype: int64"
      ]
     },
     "execution_count": 179,
     "metadata": {},
     "output_type": "execute_result"
    }
   ],
   "source": [
    "# Filling values --. fillna()\n",
    "fg_df.isnull().sum()"
   ]
  },
  {
   "cell_type": "code",
   "execution_count": 180,
   "id": "b6be40b9-3912-4bfe-953e-661b687f4656",
   "metadata": {},
   "outputs": [
    {
     "data": {
      "text/html": [
       "<div>\n",
       "<style scoped>\n",
       "    .dataframe tbody tr th:only-of-type {\n",
       "        vertical-align: middle;\n",
       "    }\n",
       "\n",
       "    .dataframe tbody tr th {\n",
       "        vertical-align: top;\n",
       "    }\n",
       "\n",
       "    .dataframe thead th {\n",
       "        text-align: right;\n",
       "    }\n",
       "</style>\n",
       "<table border=\"1\" class=\"dataframe\">\n",
       "  <thead>\n",
       "    <tr style=\"text-align: right;\">\n",
       "      <th></th>\n",
       "      <th>timestamp</th>\n",
       "      <th>value</th>\n",
       "      <th>classification</th>\n",
       "      <th>date</th>\n",
       "    </tr>\n",
       "  </thead>\n",
       "  <tbody>\n",
       "    <tr>\n",
       "      <th>0</th>\n",
       "      <td>1517463000</td>\n",
       "      <td>30</td>\n",
       "      <td>Fear</td>\n",
       "      <td>2018-02-01</td>\n",
       "    </tr>\n",
       "    <tr>\n",
       "      <th>1</th>\n",
       "      <td>1517549400</td>\n",
       "      <td>15</td>\n",
       "      <td>Extreme Fear</td>\n",
       "      <td>2018-02-02</td>\n",
       "    </tr>\n",
       "    <tr>\n",
       "      <th>2</th>\n",
       "      <td>1517635800</td>\n",
       "      <td>40</td>\n",
       "      <td>Fear</td>\n",
       "      <td>2018-02-03</td>\n",
       "    </tr>\n",
       "    <tr>\n",
       "      <th>3</th>\n",
       "      <td>1517722200</td>\n",
       "      <td>24</td>\n",
       "      <td>Extreme Fear</td>\n",
       "      <td>2018-02-04</td>\n",
       "    </tr>\n",
       "    <tr>\n",
       "      <th>4</th>\n",
       "      <td>1517808600</td>\n",
       "      <td>11</td>\n",
       "      <td>Extreme Fear</td>\n",
       "      <td>2018-02-05</td>\n",
       "    </tr>\n",
       "    <tr>\n",
       "      <th>...</th>\n",
       "      <td>...</td>\n",
       "      <td>...</td>\n",
       "      <td>...</td>\n",
       "      <td>...</td>\n",
       "    </tr>\n",
       "    <tr>\n",
       "      <th>2639</th>\n",
       "      <td>1745818200</td>\n",
       "      <td>54</td>\n",
       "      <td>Neutral</td>\n",
       "      <td>2025-04-28</td>\n",
       "    </tr>\n",
       "    <tr>\n",
       "      <th>2640</th>\n",
       "      <td>1745904600</td>\n",
       "      <td>60</td>\n",
       "      <td>Greed</td>\n",
       "      <td>2025-04-29</td>\n",
       "    </tr>\n",
       "    <tr>\n",
       "      <th>2641</th>\n",
       "      <td>1745991000</td>\n",
       "      <td>56</td>\n",
       "      <td>Greed</td>\n",
       "      <td>2025-04-30</td>\n",
       "    </tr>\n",
       "    <tr>\n",
       "      <th>2642</th>\n",
       "      <td>1746077400</td>\n",
       "      <td>53</td>\n",
       "      <td>Neutral</td>\n",
       "      <td>2025-05-01</td>\n",
       "    </tr>\n",
       "    <tr>\n",
       "      <th>2643</th>\n",
       "      <td>1746163800</td>\n",
       "      <td>67</td>\n",
       "      <td>Greed</td>\n",
       "      <td>2025-05-02</td>\n",
       "    </tr>\n",
       "  </tbody>\n",
       "</table>\n",
       "<p>2644 rows × 4 columns</p>\n",
       "</div>"
      ],
      "text/plain": [
       "       timestamp  value classification        date\n",
       "0     1517463000     30           Fear  2018-02-01\n",
       "1     1517549400     15   Extreme Fear  2018-02-02\n",
       "2     1517635800     40           Fear  2018-02-03\n",
       "3     1517722200     24   Extreme Fear  2018-02-04\n",
       "4     1517808600     11   Extreme Fear  2018-02-05\n",
       "...          ...    ...            ...         ...\n",
       "2639  1745818200     54        Neutral  2025-04-28\n",
       "2640  1745904600     60          Greed  2025-04-29\n",
       "2641  1745991000     56          Greed  2025-04-30\n",
       "2642  1746077400     53        Neutral  2025-05-01\n",
       "2643  1746163800     67          Greed  2025-05-02\n",
       "\n",
       "[2644 rows x 4 columns]"
      ]
     },
     "execution_count": 180,
     "metadata": {},
     "output_type": "execute_result"
    }
   ],
   "source": [
    "# code for permanent data or temporary\n",
    "fg_df"
   ]
  },
  {
   "cell_type": "code",
   "execution_count": 181,
   "id": "4a98b995-0f3d-4325-a9b7-e74ef7178e53",
   "metadata": {},
   "outputs": [
    {
     "name": "stdout",
     "output_type": "stream",
     "text": [
      "| timestamp   | value   | classification   | date       |\n",
      "|:------------|:--------|:-----------------|:-----------|\n",
      "| 1517463000  | 30      | Fear             | 2018-02-01 |\n",
      "| 1517549400  | 15      | Extreme Fear     | 2018-02-02 |\n",
      "| 1517635800  | 40      | Fear             | 2018-02-03 |\n",
      "| 1517722200  | 24      | Extreme Fear     | 2018-02-04 |\n",
      "| 1517808600  | 11      | Extreme Fear     | 2018-02-05 |\n"
     ]
    }
   ],
   "source": [
    "# Display the first 5 rows\n",
    "print(fg_df.head().to_markdown(index=False, numalign=\"left\", stralign=\"left\"))"
   ]
  },
  {
   "cell_type": "code",
   "execution_count": 182,
   "id": "8e8a55c6-17b8-4f4e-924b-e7df28e287b7",
   "metadata": {},
   "outputs": [
    {
     "name": "stdout",
     "output_type": "stream",
     "text": [
      "| timestamp   | value   | classification   | date       |\n",
      "|:------------|:--------|:-----------------|:-----------|\n",
      "| 1745818200  | 54      | Neutral          | 2025-04-28 |\n",
      "| 1745904600  | 60      | Greed            | 2025-04-29 |\n",
      "| 1745991000  | 56      | Greed            | 2025-04-30 |\n",
      "| 1746077400  | 53      | Neutral          | 2025-05-01 |\n",
      "| 1746163800  | 67      | Greed            | 2025-05-02 |\n"
     ]
    }
   ],
   "source": [
    "# Display the last 5 rows\n",
    "print(fg_df.tail().to_markdown(index=False, numalign=\"left\", stralign=\"left\"))"
   ]
  },
  {
   "cell_type": "code",
   "execution_count": 183,
   "id": "06b951e1-4616-4322-b229-67fb85088b3a",
   "metadata": {},
   "outputs": [
    {
     "name": "stdout",
     "output_type": "stream",
     "text": [
      "<class 'pandas.core.frame.DataFrame'>\n",
      "RangeIndex: 2644 entries, 0 to 2643\n",
      "Data columns (total 4 columns):\n",
      " #   Column          Non-Null Count  Dtype \n",
      "---  ------          --------------  ----- \n",
      " 0   timestamp       2644 non-null   int64 \n",
      " 1   value           2644 non-null   int64 \n",
      " 2   classification  2644 non-null   object\n",
      " 3   date            2644 non-null   object\n",
      "dtypes: int64(2), object(2)\n",
      "memory usage: 82.8+ KB\n"
     ]
    },
    {
     "data": {
      "text/plain": [
       "Index(['timestamp', 'value', 'classification', 'date'], dtype='object')"
      ]
     },
     "execution_count": 183,
     "metadata": {},
     "output_type": "execute_result"
    }
   ],
   "source": [
    "# Display column information\n",
    "fg_df.info()          # Overview of data types and non-null counts\n",
    "fg_df.describe()      # Statistical summary of numerical columns\n",
    "fg_df.columns         # List all column names"
   ]
  },
  {
   "cell_type": "markdown",
   "id": "ac3833c0-9907-44dd-8de7-66bcf43165e6",
   "metadata": {},
   "source": [
    "#### Why we need to this:\n",
    "##### We need this step to import the dataset into our analysis environment and get a first look at its structure. This helps us understand the columns, data types, and presence of any immediate issues, ensuring we know what data we're working with before proceeding."
   ]
  },
  {
   "cell_type": "markdown",
   "id": "f1df5901-5a71-4714-9ac2-b37f30efd1dc",
   "metadata": {},
   "source": [
    "### Code Block 2: Data Preparation and Sentiment Distribution Analysis\n",
    "### Description Focus: Converting date column, checking for missing values, and visualizing the frequency of each sentiment classification."
   ]
  },
  {
   "cell_type": "markdown",
   "id": "c2d8d02e-3569-4a0a-be00-0173825dbbcf",
   "metadata": {},
   "source": [
    "#### Step 2: Data Preparation and Sentiment Distribution Analysis\n",
    "#### This section prepares the 'date' column by converting it to datetime objects,\n",
    "#### checks the dataset for any missing values, and then analyzes and visualizes\n",
    "#### the overall distribution of different sentiment classifications (e.g., Fear, Greed)."
   ]
  },
  {
   "cell_type": "code",
   "execution_count": 184,
   "id": "b48a79fe-510c-4d38-b0bb-fdac493ed174",
   "metadata": {},
   "outputs": [],
   "source": [
    "import matplotlib.pyplot as plt\n",
    "import seaborn as sns"
   ]
  },
  {
   "cell_type": "code",
   "execution_count": 185,
   "id": "3d6c4e7f-81f6-4ef3-82eb-c2bf3f11fe50",
   "metadata": {},
   "outputs": [
    {
     "name": "stdout",
     "output_type": "stream",
     "text": [
      "<function to_datetime at 0x000002416E8B7560>\n"
     ]
    }
   ],
   "source": [
    "# Convert 'date' column to datetime objects\n",
    "fg_df['date'] = pd.to_datetime(fg_df['date'])\n",
    "print(pd.to_datetime)"
   ]
  },
  {
   "cell_type": "code",
   "execution_count": 186,
   "id": "81a987d1-7b7e-41a6-9035-5ff4a805d68a",
   "metadata": {},
   "outputs": [
    {
     "name": "stdout",
     "output_type": "stream",
     "text": [
      "Missing Values:\n",
      " |                | 0   |\n",
      "|:---------------|:----|\n",
      "| timestamp      | 0   |\n",
      "| value          | 0   |\n",
      "| classification | 0   |\n",
      "| date           | 0   |\n"
     ]
    }
   ],
   "source": [
    "# Check for missing values\n",
    "missing_values = fg_df.isnull().sum()\n",
    "print(\"Missing Values:\\n\", missing_values.to_markdown(numalign=\"left\", stralign=\"left\"))"
   ]
  },
  {
   "cell_type": "code",
   "execution_count": 187,
   "id": "7ae0e58f-4828-4789-9a65-bae61e359100",
   "metadata": {},
   "outputs": [
    {
     "name": "stdout",
     "output_type": "stream",
     "text": [
      "classification\n",
      "Fear             781\n",
      "Greed            633\n",
      "Extreme Fear     508\n",
      "Neutral          396\n",
      "Extreme Greed    326\n",
      "Name: count, dtype: int64\n"
     ]
    }
   ],
   "source": [
    "# Analyze the distribution of sentiment classifications\n",
    "classification_counts = fg_df['classification'].value_counts()\n",
    "print(classification_counts)"
   ]
  },
  {
   "cell_type": "code",
   "execution_count": 188,
   "id": "ab44d1e2-b20b-4b9b-8973-33169195b11c",
   "metadata": {},
   "outputs": [
    {
     "data": {
      "text/plain": [
       "[]"
      ]
     },
     "execution_count": 188,
     "metadata": {},
     "output_type": "execute_result"
    },
    {
     "data": {
      "image/png": "[encoded data removed]",
      "text/plain": [
       "<Figure size 800x500 with 1 Axes>"
      ]
     },
     "metadata": {},
     "output_type": "display_data"
    }
   ],
   "source": [
    "# Plot the distribution of sentiment classifications with the corrected syntax for hue, without the problematic legend parameter\n",
    "plt.figure(figsize=(8, 5))\n",
    "ax1 = sns.barplot(x=classification_counts.index, y=classification_counts.values, hue=classification_counts.index, palette='viridis')\n",
    "plt.title('Distribution of Bitcoin Market Sentiment Classifications')\n",
    "plt.xlabel('Sentiment Classification')\n",
    "plt.ylabel('Number of Occurrences')\n",
    "plt.xticks(rotation=45)\n",
    "plt.tight_layout()\n",
    "plt.plot()"
   ]
  },
  {
   "cell_type": "markdown",
   "id": "ee236808-a584-48f3-a3d4-5a42028ac348",
   "metadata": {},
   "source": [
    "#### Why we need to this:\n",
    "##### This step is vital for data readiness and initial understanding. Converting the 'date' column to datetime is essential for time-series analysis. Checking for missing values ensures data quality. Analyzing sentiment distribution provides a foundational overview of market sentiment frequencies, giving context for deeper pattern discovery."
   ]
  },
  {
   "cell_type": "markdown",
   "id": "a6298bd4-af8d-47a4-b3b4-7a226a14bfbd",
   "metadata": {},
   "source": [
    "###  Code Block 3: Analyzing Average Fear & Greed Index by Sentiment\n",
    "###  Description Focus: Calculating and plotting the average numerical index value for each sentiment category."
   ]
  },
  {
   "cell_type": "markdown",
   "id": "cc73581a-ec2e-47d9-a393-0c756b26f98b",
   "metadata": {},
   "source": [
    "#### Step 3: Analyzing Average Fear & Greed Index by Sentiment\n",
    "#### This block computes the average Fear & Greed Index value for each\n",
    "#### sentiment classification (e.g., Extreme Fear, Neutral, Extreme Greed)\n",
    "#### and visualizes these averages to show the numerical range associated\n",
    "#### with each sentiment state.\n",
    "#### ... (code for calculating and plotting averages)"
   ]
  },
  {
   "cell_type": "code",
   "execution_count": 189,
   "id": "da77be6c-6075-4cd4-a590-20e0d9d1cd2c",
   "metadata": {},
   "outputs": [
    {
     "name": "stdout",
     "output_type": "stream",
     "text": [
      "\n",
      "Average Fear & Greed Index Value by Sentiment Classification:\n",
      " | classification   | value   |\n",
      "|:-----------------|:--------|\n",
      "| Extreme Greed    | 82.1166 |\n",
      "| Greed            | 65.8468 |\n",
      "| Neutral          | 49.9646 |\n",
      "| Fear             | 34.1844 |\n",
      "| Extreme Fear     | 18.2736 |\n"
     ]
    }
   ],
   "source": [
    "# Calculate the average Fear & Greed Index value for each sentiment classification\n",
    "average_index_by_sentiment = fg_df.groupby('classification')['value'].mean().sort_values(ascending=False)\n",
    "print(\"\\nAverage Fear & Greed Index Value by Sentiment Classification:\\n\", average_index_by_sentiment.to_markdown(numalign=\"left\", stralign=\"left\"))"
   ]
  },
  {
   "cell_type": "code",
   "execution_count": 190,
   "id": "967a2845-39b8-4c89-9920-8550f64d4aa1",
   "metadata": {},
   "outputs": [
    {
     "data": {
      "text/plain": [
       "[]"
      ]
     },
     "execution_count": 190,
     "metadata": {},
     "output_type": "execute_result"
    },
    {
     "data": {
      "image/png": "[encoded data removed]",
      "text/plain": [
       "<Figure size 800x500 with 1 Axes>"
      ]
     },
     "metadata": {},
     "output_type": "display_data"
    }
   ],
   "source": [
    "# Plot the average Fear & Greed Index value by sentiment classification\n",
    "plt.figure(figsize=(8, 5))\n",
    "ax2 = sns.barplot(x=average_index_by_sentiment.index, y=average_index_by_sentiment.values, hue=average_index_by_sentiment.index, palette='coolwarm')\n",
    "plt.title('Average Fear & Greed Index Value by Sentiment Classification')\n",
    "plt.xlabel('Sentiment Classification')\n",
    "plt.ylabel('Average Fear & Greed Index Value')\n",
    "plt.xticks(rotation=45)\n",
    "plt.tight_layout()\n",
    "plt.plot()"
   ]
  },
  {
   "cell_type": "code",
   "execution_count": 201,
   "id": "6c975f7d-4f28-476e-af25-8f2ea34f9816",
   "metadata": {},
   "outputs": [
    {
     "data": {
      "text/plain": [
       "[]"
      ]
     },
     "execution_count": 201,
     "metadata": {},
     "output_type": "execute_result"
    },
    {
     "data": {
      "image/png": "[encoded data removed]",
      "text/plain": [
       "<Figure size 800x500 with 1 Axes>"
      ]
     },
     "metadata": {},
     "output_type": "display_data"
    }
   ],
   "source": [
    "# Plot the Fear & Greed Index over time\n",
    "plt.figure(figsize=(8, 5))\n",
    "plt.plot(fg_df['date'], fg_df['value'], color='blue', alpha=0.8)\n",
    "plt.title('Bitcoin Fear & Greed Index Over Time')\n",
    "plt.xlabel('Date')\n",
    "plt.ylabel('Fear & Greed Index Value')\n",
    "plt.grid(True)\n",
    "plt.tight_layout()\n",
    "plt.savefig('fear_greed_index_over_time.png')\n",
    "plt.plot()"
   ]
  },
  {
   "cell_type": "markdown",
   "id": "5794cd06-333f-4131-837d-12090e51ee02",
   "metadata": {},
   "source": [
    "#### Why we need to do this:\n",
    "\n",
    "\n",
    "\n",
    "##### Quantifying Sentiment: While we have sentiment classifications (like 'Fear' or 'Greed'), understanding the average value (the actual index number) associated with each helps to quantify what these classifications numerically represent. This tells us, for instance, that 'Extreme Fear' consistently corresponds to very low index numbers, and 'Extreme Greed' to very high ones.\n",
    "\n",
    "##### Exploring Relationships: This step explicitly explores a numerical relationship between the qualitative 'classification' and the quantitative 'value' of the index. It confirms that the classifications logically align with the index values.\n",
    "\n",
    "##### Foundation for Strategy: Knowing the typical range for each sentiment is foundational. For example, if a strategy involves \"buying when the market is in extreme fear,\" knowing the average index value for 'Extreme Fear' helps to set numerical thresholds."
   ]
  },
  {
   "cell_type": "markdown",
   "id": "008248e4-fbee-4895-8ea1-0f52faa22eb6",
   "metadata": {},
   "source": [
    "##  Code Block 4: Sentiment Transition Matrix Analysis\n",
    "## Description Focus: Creating a matrix that shows the probabilities of sentiment changing from one state to another on consecutive days, revealing temporal patterns.\n",
    "## --- New Analysis: Sentiment Transition Matrix ---"
   ]
  },
  {
   "cell_type": "code",
   "execution_count": 191,
   "id": "48924d10-c752-4833-a228-b9a82407d995",
   "metadata": {},
   "outputs": [],
   "source": [
    "### Step 4: Sentiment Transition Matrix Analysis\n",
    "### This crucial step constructs a transition matrix to quantify the likelihood\n",
    "### of the market sentiment shifting from one classification to another on\n",
    "### a daily basis. It helps uncover hidden temporal patterns in sentiment changes.\n",
    "### ... (Your code for transition matrix calculation and heatmap)"
   ]
  },
  {
   "cell_type": "code",
   "execution_count": 192,
   "id": "e6cc3992-81e2-4224-b062-87077a2a694a",
   "metadata": {},
   "outputs": [
    {
     "name": "stdout",
     "output_type": "stream",
     "text": [
      "0       Extreme Fear\n",
      "1               Fear\n",
      "2       Extreme Fear\n",
      "3       Extreme Fear\n",
      "4       Extreme Fear\n",
      "            ...     \n",
      "2639           Greed\n",
      "2640           Greed\n",
      "2641         Neutral\n",
      "2642           Greed\n",
      "2643            None\n",
      "Name: next_classification, Length: 2644, dtype: object\n"
     ]
    }
   ],
   "source": [
    "# Create a shifted column to represent the next day's classification\n",
    "fg_df['next_classification'] = fg_df['classification'].shift(-1)\n",
    "print(fg_df['next_classification'])"
   ]
  },
  {
   "cell_type": "code",
   "execution_count": 193,
   "id": "2e807bc0-59c2-4408-aebd-ec875a062a71",
   "metadata": {},
   "outputs": [
    {
     "name": "stdout",
     "output_type": "stream",
     "text": [
      "0       Extreme Fear\n",
      "1               Fear\n",
      "2       Extreme Fear\n",
      "3       Extreme Fear\n",
      "4       Extreme Fear\n",
      "            ...     \n",
      "2638         Neutral\n",
      "2639           Greed\n",
      "2640           Greed\n",
      "2641         Neutral\n",
      "2642           Greed\n",
      "Name: next_classification, Length: 2643, dtype: object\n"
     ]
    }
   ],
   "source": [
    "# Drop the last row as it will have NaN for 'next_classification'\n",
    "fg_df_transitions = fg_df.dropna(subset=['next_classification'])\n",
    "print(fg_df_transitions['next_classification'])  # Just the new column"
   ]
  },
  {
   "cell_type": "code",
   "execution_count": 194,
   "id": "ffc3eb79-0f6f-444d-a6c0-68875a549cee",
   "metadata": {},
   "outputs": [
    {
     "name": "stdout",
     "output_type": "stream",
     "text": [
      "       timestamp  value classification       date next_classification\n",
      "0     1517463000     30           Fear 2018-02-01        Extreme Fear\n",
      "1     1517549400     15   Extreme Fear 2018-02-02                Fear\n",
      "2     1517635800     40           Fear 2018-02-03        Extreme Fear\n",
      "3     1517722200     24   Extreme Fear 2018-02-04        Extreme Fear\n",
      "4     1517808600     11   Extreme Fear 2018-02-05        Extreme Fear\n",
      "...          ...    ...            ...        ...                 ...\n",
      "2638  1745731800     61          Greed 2025-04-27             Neutral\n",
      "2639  1745818200     54        Neutral 2025-04-28               Greed\n",
      "2640  1745904600     60          Greed 2025-04-29               Greed\n",
      "2641  1745991000     56          Greed 2025-04-30             Neutral\n",
      "2642  1746077400     53        Neutral 2025-05-01               Greed\n",
      "\n",
      "[2643 rows x 5 columns]\n"
     ]
    }
   ],
   "source": [
    " # Print the updated DataFrame\n",
    "print(fg_df_transitions)           "
   ]
  },
  {
   "cell_type": "code",
   "execution_count": 195,
   "id": "6ed03c32-f2e8-4524-a990-892a01ef7276",
   "metadata": {},
   "outputs": [
    {
     "name": "stdout",
     "output_type": "stream",
     "text": [
      "    timestamp  value classification       date next_classification\n",
      "0  1517463000     30           Fear 2018-02-01        Extreme Fear\n",
      "1  1517549400     15   Extreme Fear 2018-02-02                Fear\n",
      "2  1517635800     40           Fear 2018-02-03        Extreme Fear\n",
      "3  1517722200     24   Extreme Fear 2018-02-04        Extreme Fear\n",
      "4  1517808600     11   Extreme Fear 2018-02-05        Extreme Fear\n"
     ]
    }
   ],
   "source": [
    "# View first few rows\n",
    "print(fg_df_transitions.head()) "
   ]
  },
  {
   "cell_type": "code",
   "execution_count": 196,
   "id": "ac751eed-6a8a-4eb4-b2c2-8bb7bcbbe8ad",
   "metadata": {},
   "outputs": [
    {
     "name": "stdout",
     "output_type": "stream",
     "text": [
      "       timestamp  value classification       date next_classification\n",
      "2638  1745731800     61          Greed 2025-04-27             Neutral\n",
      "2639  1745818200     54        Neutral 2025-04-28               Greed\n",
      "2640  1745904600     60          Greed 2025-04-29               Greed\n",
      "2641  1745991000     56          Greed 2025-04-30             Neutral\n",
      "2642  1746077400     53        Neutral 2025-05-01               Greed\n"
     ]
    }
   ],
   "source": [
    "# View last few rows\n",
    "print(fg_df_transitions.tail()) "
   ]
  },
  {
   "cell_type": "code",
   "execution_count": 197,
   "id": "daef22f1-b83f-4f30-9287-80ddad71f406",
   "metadata": {},
   "outputs": [
    {
     "name": "stdout",
     "output_type": "stream",
     "text": [
      "Missing Values:\n",
      " |                     | 0   |\n",
      "|:--------------------|:----|\n",
      "| timestamp           | 0   |\n",
      "| value               | 0   |\n",
      "| classification      | 0   |\n",
      "| date                | 0   |\n",
      "| next_classification | 1   |\n"
     ]
    }
   ],
   "source": [
    "# Check for missing values\n",
    "missing_values = fg_df.isnull().sum()\n",
    "print(\"Missing Values:\\n\", missing_values.to_markdown(numalign=\"left\", stralign=\"left\"))"
   ]
  },
  {
   "cell_type": "code",
   "execution_count": 198,
   "id": "1f688f6b-77fb-4084-b49d-e7d791e98444",
   "metadata": {},
   "outputs": [
    {
     "name": "stdout",
     "output_type": "stream",
     "text": [
      "next_classification  Extreme Fear  Extreme Greed  Fear  Greed  Neutral\n",
      "classification                                                        \n",
      "Extreme Fear                  416              0    88      0        4\n",
      "Extreme Greed                   0            271     2     52        1\n",
      "Fear                           88              1   610     12       70\n",
      "Greed                           1             54    12    498       67\n",
      "Neutral                         3              0    68     71      254\n"
     ]
    }
   ],
   "source": [
    "# Create a crosstab to count transitions\n",
    "transition_counts = pd.crosstab(fg_df_transitions['classification'], fg_df_transitions['next_classification'])\n",
    "print(transition_counts)"
   ]
  },
  {
   "cell_type": "code",
   "execution_count": 199,
   "id": "6829bd8b-fd8b-49f6-ad9f-402f00154897",
   "metadata": {},
   "outputs": [
    {
     "name": "stdout",
     "output_type": "stream",
     "text": [
      "next_classification  Extreme Fear  Extreme Greed      Fear     Greed   Neutral\n",
      "classification                                                                \n",
      "Extreme Fear             0.818898       0.000000  0.173228  0.000000  0.007874\n",
      "Extreme Greed            0.000000       0.831288  0.006135  0.159509  0.003067\n",
      "Fear                     0.112676       0.001280  0.781050  0.015365  0.089629\n",
      "Greed                    0.001582       0.085443  0.018987  0.787975  0.106013\n",
      "Neutral                  0.007576       0.000000  0.171717  0.179293  0.641414\n"
     ]
    }
   ],
   "source": [
    "# Calculate transition probabilities\n",
    "# Normalize by row sum to get probabilities of transitioning FROM a state\n",
    "transition_probabilities = transition_counts.div(transition_counts.sum(axis=1), axis=0)\n",
    "print(transition_probabilities)"
   ]
  },
  {
   "cell_type": "code",
   "execution_count": 200,
   "id": "f863aecf-4cfb-41a3-af68-46b02a9dc3d8",
   "metadata": {},
   "outputs": [
    {
     "data": {
      "text/plain": [
       "[]"
      ]
     },
     "execution_count": 200,
     "metadata": {},
     "output_type": "execute_result"
    },
    {
     "data": {
      "image/png": "[encoded data removed]",
      "text/plain": [
       "<Figure size 800x500 with 2 Axes>"
      ]
     },
     "metadata": {},
     "output_type": "display_data"
    }
   ],
   "source": [
    "# Visualize the transition probabilities as a heatmap\n",
    "plt.figure(figsize=(8, 5))\n",
    "sns.heatmap(transition_probabilities, annot=True, cmap='YlGnBu', fmt=\".2f\", linewidths=.5)\n",
    "plt.title('Sentiment Transition Probabilities (From Row to Column)')\n",
    "plt.xlabel('To Sentiment')\n",
    "plt.ylabel('From Sentiment')\n",
    "plt.tight_layout()\n",
    "plt.savefig('sentiment_transition_heatmap.png')\n",
    "plt.plot()"
   ]
  },
  {
   "cell_type": "markdown",
   "id": "74cac548-908b-438f-9328-5927562d1ac2",
   "metadata": {},
   "source": [
    "#### Why we need to do this:\n",
    "\n",
    "##### Uncovering Hidden Temporal Patterns: This is the core of \"uncovering hidden patterns\" in how market sentiment evolves. By looking at transitions, ##### we can identify common sequences (e.g., does 'Extreme Fear' often lead to 'Fear' before recovery?).\n",
    "##### Predictive Insights for Trading: Understanding transition probabilities can inform smarter trading strategies:\n",
    "##### Persistence: High probabilities along the diagonal (e.g., 'Fear' to 'Fear') suggest sentiment often persists, advising against immediate counter-##### trend trades.\n",
    "##### Reversal Signals: If a particular sentiment (like 'Extreme Fear') has a higher probability of moving to a less extreme state ('Fear' or #####'Neutral'), it can hint at potential market bottoms.\n",
    "##### Trend Continuation: If a 'Neutral' sentiment has a high probability of moving towards 'Greed', it might indicate a developing bullish trend.\n",
    "##### Risk Management: Knowing rare transitions (e.g., direct jump from 'Extreme Fear' to 'Extreme Greed' is improbable) helps manage expectations and avoid speculative trades based on unlikely scenarios.\n",
    "##### Informing Entry/Exit Points: Traders can use these probabilities to make more informed decisions about when to enter or exit positions based on the current and likely future sentiment state."
   ]
  },
  {
   "cell_type": "markdown",
   "id": "87f8a707-8e3b-4c44-8723-ad089f99f823",
   "metadata": {},
   "source": [
    "### Conclusion:\n",
    "#### The Bitcoin Market Sentiment analysis reveals sentiment persistence and gradual transitions. 'Extreme Fear' and 'Extreme Greed' are rare and tend to revert to less extreme states, not direct opposites. This suggests that market sentiment offers insights for smarter trading strategies by anticipating gradual shifts rather than abrupt reversals. Traders can leverage persistence for short-term direction and use extreme sentiment as a guide for potential, but often slow, mean reversion opportunities."
   ]
  }
 ],
 "metadata": {
  "kernelspec": {
   "display_name": "Python [conda env:base] *",
   "language": "python",
   "name": "conda-base-py"
  },
  "language_info": {
   "codemirror_mode": {
    "name": "ipython",
    "version": 3
   },
   "file_extension": ".py",
   "mimetype": "text/x-python",
   "name": "python",
   "nbconvert_exporter": "python",
   "pygments_lexer": "ipython3",
   "version": "3.12.7"
  }
 },
 "nbformat": 4,
 "nbformat_minor": 5
}
